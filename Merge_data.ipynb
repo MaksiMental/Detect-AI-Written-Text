{
 "cells": [
  {
   "cell_type": "code",
   "execution_count": 1,
   "metadata": {},
   "outputs": [
    {
     "name": "stdout",
     "output_type": "stream",
     "text": [
      "The expanded DataFrame has been saved as 'expanded_merged_output.csv'. It contains 3582 rows.\n"
     ]
    }
   ],
   "source": [
    "import pandas as pd\n",
    "\n",
    "# the file we used to merge data \n",
    "daigt = pd.read_csv('Data_final.csv')\n",
    "persuade = pd.read_csv('./data/ellipse/ELLIPSE_Final_github.csv')\n",
    "\n",
    "# Merge the DataFrames based on 'id' in daigt and 'text_id_kaggle' in persuade\n",
    "merged_df = pd.merge(daigt, persuade, left_on='id', right_on='text_id_kaggle', suffixes=('_daigt', '_persuade'))\n",
    "\n",
    "# Remove rows that don't have a value in 'essay_result'\n",
    "filtered_df = merged_df.dropna(subset=['essay_result'])\n",
    "\n",
    "# Filter rows where grade is between 9 and 12\n",
    "filtered_df = filtered_df[(filtered_df['grade'] >= 9) & (filtered_df['grade'] <= 12)]\n",
    "\n",
    "# Create a new DataFrame with the required structure\n",
    "expanded_rows = []\n",
    "\n",
    "for _, row in filtered_df.iterrows():\n",
    "    expanded_rows.append({\n",
    "        'text': row['source_text'],\n",
    "        'label': 0,\n",
    "        'prompt': row['prompt'],\n",
    "        'grade': row['grade'],\n",
    "        'task': row['task']\n",
    "    })\n",
    "    expanded_rows.append({\n",
    "        'text': row['essay_result'],\n",
    "        'label': 1,\n",
    "        'prompt': row['prompt'],\n",
    "        'grade': \"gpt-4\",\n",
    "        'task': row['task']\n",
    "    })\n",
    "\n",
    "# Convert the list of dictionaries to a DataFrame\n",
    "expanded_df = pd.DataFrame(expanded_rows)\n",
    "\n",
    "# Save the new DataFrame to a CSV file\n",
    "expanded_df.to_csv('Data_final.csv', index=False)\n",
    "\n",
    "print(f\"The expanded DataFrame has been saved as 'expanded_merged_output.csv'. It contains {expanded_df.shape[0]} rows.\")\n"
   ]
  }
 ],
 "metadata": {
  "kernelspec": {
   "display_name": "Python 3",
   "language": "python",
   "name": "python3"
  },
  "language_info": {
   "codemirror_mode": {
    "name": "ipython",
    "version": 3
   },
   "file_extension": ".py",
   "mimetype": "text/x-python",
   "name": "python",
   "nbconvert_exporter": "python",
   "pygments_lexer": "ipython3",
   "version": "3.10.13"
  }
 },
 "nbformat": 4,
 "nbformat_minor": 2
}
